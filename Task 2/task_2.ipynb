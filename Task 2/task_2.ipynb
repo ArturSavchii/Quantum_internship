{
 "cells": [
  {
   "cell_type": "markdown",
   "id": "83cd9baa-898e-4637-b836-2a8da0afe78b",
   "metadata": {},
   "source": [
    "The idea here is to use BFS (Breadth-first search) from every matrix element, where neighbors are current element + move ([0, 1], [1, 0], etc). "
   ]
  },
  {
   "cell_type": "code",
   "execution_count": 7,
   "id": "1f4d5f7c-349b-44b6-bc6f-fea5c3993e41",
   "metadata": {},
   "outputs": [
    {
     "name": "stdin",
     "output_type": "stream",
     "text": [
      " 3 4\n",
      " 0 0 0 1\n",
      " 0 0 1 1\n",
      " 0 1 0 1\n"
     ]
    },
    {
     "name": "stdout",
     "output_type": "stream",
     "text": [
      "2\n"
     ]
    }
   ],
   "source": [
    "graph = []  \n",
    "queue = []\n",
    "moves = [[0, 1],[0, -1],[1, 0],[-1, 0]]\n",
    "num = 0\n",
    "\n",
    "n, m = list(map(int, input().split()))  \n",
    "for i in range(n):   \n",
    "    row = list(input().split())   \n",
    "    graph.append(row)   \n",
    "    \n",
    "visited = [[False for i in range(m)] for j in range(n)]\n",
    "\n",
    "for i in range(n):\n",
    "    for j in range(m):\n",
    "        if((visited[i][j]==False) and (graph[i][j] == '1')):\n",
    "            queue.append((i , j))\n",
    "            visited[i][j] = True\n",
    "            num+=1\n",
    "            \n",
    "            while len(queue)!=0:\n",
    "                cur = queue.pop(0)\n",
    "                for move in moves:\n",
    "                    neighbor_row = cur[0] + move[0]\n",
    "                    neighbor_col = cur[1] + move[1]\n",
    "                    if((neighbor_row < n) and (neighbor_row >= 0) and (neighbor_col < m) and (neighbor_col >= 0) and (visited[neighbor_row][neighbor_col]==False) and (graph[neighbor_row][neighbor_col] == '1')):\n",
    "                        queue.append((neighbor_row, neighbor_col))\n",
    "                        visited[neighbor_row][neighbor_col] = True\n",
    "                        \n",
    "print(num)"
   ]
  }
 ],
 "metadata": {
  "kernelspec": {
   "display_name": "Python 3 (ipykernel)",
   "language": "python",
   "name": "python3"
  },
  "language_info": {
   "codemirror_mode": {
    "name": "ipython",
    "version": 3
   },
   "file_extension": ".py",
   "mimetype": "text/x-python",
   "name": "python",
   "nbconvert_exporter": "python",
   "pygments_lexer": "ipython3",
   "version": "3.10.8"
  }
 },
 "nbformat": 4,
 "nbformat_minor": 5
}
