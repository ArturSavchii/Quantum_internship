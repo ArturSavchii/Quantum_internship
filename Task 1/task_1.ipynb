{
 "cells": [
  {
   "cell_type": "markdown",
   "id": "25796b78-e5b4-4593-8cc2-e90a56b599d4",
   "metadata": {},
   "source": [
    "The most efficient way to solve this task is to use a formula of the sum of the first N natural numbers:\n",
    "\n",
    "$$\n",
    "  s = \\frac{n(n+1)}{2}\n",
    "$$\n",
    "\n",
    "However, from the task's name, \"What is FOR loop\", I assume it asks to do this using a loop.\n",
    "\n",
    "Therefore, there are two implementations below."
   ]
  },
  {
   "cell_type": "code",
   "execution_count": 23,
   "id": "20191d93-f8a5-4b61-9eb5-c3b6ae45ea11",
   "metadata": {},
   "outputs": [
    {
     "name": "stdin",
     "output_type": "stream",
     "text": [
      " 3\n"
     ]
    },
    {
     "name": "stdout",
     "output_type": "stream",
     "text": [
      "6\n"
     ]
    }
   ],
   "source": [
    "#Using the sum of first N natural numbers\n",
    "n = int(input())\n",
    "result = n*(n+1)/2\n",
    "print(int(result))"
   ]
  },
  {
   "cell_type": "code",
   "execution_count": 25,
   "id": "ef0f7d9b-164a-4323-8bbb-8270c81f2608",
   "metadata": {},
   "outputs": [
    {
     "name": "stdin",
     "output_type": "stream",
     "text": [
      " 10\n"
     ]
    },
    {
     "name": "stdout",
     "output_type": "stream",
     "text": [
      "55\n"
     ]
    }
   ],
   "source": [
    "#Using the FOR loop\n",
    "n = int(input())\n",
    "result = 0\n",
    "for i in range(n+1):\n",
    "    result += i\n",
    "print(result)"
   ]
  }
 ],
 "metadata": {
  "kernelspec": {
   "display_name": "Python 3 (ipykernel)",
   "language": "python",
   "name": "python3"
  },
  "language_info": {
   "codemirror_mode": {
    "name": "ipython",
    "version": 3
   },
   "file_extension": ".py",
   "mimetype": "text/x-python",
   "name": "python",
   "nbconvert_exporter": "python",
   "pygments_lexer": "ipython3",
   "version": "3.10.8"
  }
 },
 "nbformat": 4,
 "nbformat_minor": 5
}
